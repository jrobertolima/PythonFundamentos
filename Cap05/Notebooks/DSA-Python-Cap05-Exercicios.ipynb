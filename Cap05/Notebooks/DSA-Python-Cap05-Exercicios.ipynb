{
 "cells": [
  {
   "cell_type": "markdown",
   "metadata": {},
   "source": [
    "# <font color='blue'>Data Science Academy - Python Fundamentos - Capítulo 5</font>\n",
    "\n",
    "## Download: http://github.com/dsacademybr"
   ]
  },
  {
   "cell_type": "code",
   "execution_count": 1,
   "metadata": {},
   "outputs": [
    {
     "name": "stdout",
     "output_type": "stream",
     "text": [
      "Versão da Linguagem Python Usada Neste Jupyter Notebook: 3.6.5\n"
     ]
    }
   ],
   "source": [
    "# Versão da Linguagem Python\n",
    "from platform import python_version\n",
    "print('Versão da Linguagem Python Usada Neste Jupyter Notebook:', python_version())"
   ]
  },
  {
   "cell_type": "markdown",
   "metadata": {},
   "source": [
    "## Exercícios"
   ]
  },
  {
   "cell_type": "code",
   "execution_count": 2,
   "metadata": {},
   "outputs": [],
   "source": [
    "# Exercício 1 - Crie um objeto a partir da classe abaixo, chamado roc1, passando 2 parâmetros e depois faça uma chamada\n",
    "# aos atributos e métodos\n",
    "from math import sqrt\n",
    "\n",
    "class Rocket():\n",
    "     \n",
    "    def __init__(self, x=0, y=0):\n",
    "        self.x = x\n",
    "        self.y = y\n",
    "        \n",
    "    def move_rocket(self, x_increment=0, y_increment=1):\n",
    "        self.x += x_increment\n",
    "        self.y += y_increment\n",
    "        \n",
    "    def print_rocket(self):\n",
    "        print(self.x, self.y)\n",
    "        \n",
    "roc1 = Rocket(12,36)\n",
    "        "
   ]
  },
  {
   "cell_type": "code",
   "execution_count": 3,
   "metadata": {},
   "outputs": [],
   "source": [
    "roc1.move_rocket(10,-10)"
   ]
  },
  {
   "cell_type": "code",
   "execution_count": 4,
   "metadata": {},
   "outputs": [
    {
     "name": "stdout",
     "output_type": "stream",
     "text": [
      "22 26\n"
     ]
    }
   ],
   "source": [
    "roc1.print_rocket()"
   ]
  },
  {
   "cell_type": "code",
   "execution_count": 5,
   "metadata": {},
   "outputs": [],
   "source": [
    "# Exercício 2 - Crie uma classe chamada Pessoa() com os atributos: nome, cidade, telefone e e-mail. Use pelo menos 2\n",
    "# métodos especiais na sua classe. Crie um objeto da sua classe e faça uma chamada a pelo menos um dos seus métodos\n",
    "# especiais.\n",
    "\n",
    "class Pessoa():\n",
    "    def __init__(self, nome, cidade, fone, email):\n",
    "        self.nome = nome\n",
    "        self.cidade = cidade\n",
    "        self.fone = fone\n",
    "        self.e_mail= email\n",
    "        \n",
    "    def __atribua_e_mail__(self, novo_email):\n",
    "        self.e_mail = novo_email\n",
    "        \n",
    "    def setNome(self, novo_nome):\n",
    "        self.nome = novo_nome\n",
    "        \n",
    "    def getNome(self):\n",
    "        return self.nome\n",
    "    "
   ]
  },
  {
   "cell_type": "code",
   "execution_count": 6,
   "metadata": {},
   "outputs": [],
   "source": [
    "joao = Pessoa(\"joão\", 'Vespa', '992320098', 'jbt@gmail.com')"
   ]
  },
  {
   "cell_type": "code",
   "execution_count": 7,
   "metadata": {},
   "outputs": [
    {
     "name": "stdout",
     "output_type": "stream",
     "text": [
      "joão\n"
     ]
    }
   ],
   "source": [
    "print(joao.getNome())"
   ]
  },
  {
   "cell_type": "code",
   "execution_count": 10,
   "metadata": {},
   "outputs": [],
   "source": [
    "# Exercício 3 - Crie a classe Smartphone com 2 atributos, tamanho e interface e crie a classe MP3Player com os \n",
    "# atributos capacidade. A classe MP3player deve herdar os atributos da classe Smartphone.\n",
    "class Smartphone():\n",
    "    def __init__(self, tam, interface):\n",
    "        self.tamanho = tam\n",
    "        self.interface = interface\n",
    "        \n",
    "    def setTamanho(self, novoTam):\n",
    "        self.tamanho = novoTam\n",
    "        \n",
    "    def getTamanho(self):\n",
    "        return self.tamanho\n",
    "    \n",
    "class MP3Player(Smartphone):\n",
    "    def __init__(self, tam, interface, capacidade):\n",
    "        Smartphone.__init__(self,tam, interface)\n",
    "        self.capacidade = capacidade\n",
    "        \n",
    "    def getCapacidade(self):\n",
    "        return self.capacidade\n",
    "    \n",
    "    def setCapacidade(self, cap):\n",
    "        self.capacidade = cap\n",
    "        return\n",
    "    \n",
    "    \n"
   ]
  },
  {
   "cell_type": "code",
   "execution_count": 12,
   "metadata": {},
   "outputs": [
    {
     "name": "stdout",
     "output_type": "stream",
     "text": [
      "7\n",
      "30\n"
     ]
    }
   ],
   "source": [
    "mp3 = MP3Player(7, 'android', 30)\n",
    "print(mp3.getTamanho())\n",
    "print(mp3.getCapacidade())\n"
   ]
  },
  {
   "cell_type": "markdown",
   "metadata": {},
   "source": [
    "### FIM"
   ]
  },
  {
   "cell_type": "markdown",
   "metadata": {},
   "source": [
    "### Obrigado - Data Science Academy - <a href=\"http://facebook.com/dsacademybr\">facebook.com/dsacademybr</a>"
   ]
  }
 ],
 "metadata": {
  "kernelspec": {
   "display_name": "Python 3",
   "language": "python",
   "name": "python3"
  },
  "language_info": {
   "codemirror_mode": {
    "name": "ipython",
    "version": 3
   },
   "file_extension": ".py",
   "mimetype": "text/x-python",
   "name": "python",
   "nbconvert_exporter": "python",
   "pygments_lexer": "ipython3",
   "version": "3.6.5"
  }
 },
 "nbformat": 4,
 "nbformat_minor": 1
}
