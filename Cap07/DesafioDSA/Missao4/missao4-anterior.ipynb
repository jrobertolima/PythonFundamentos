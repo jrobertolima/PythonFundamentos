{
 "cells": [
  {
   "cell_type": "markdown",
   "metadata": {},
   "source": [
    "# <font color='blue'>Data Science Academy - Python Fundamentos - Capítulo 7</font>\n",
    "\n",
    "## Download: http://github.com/dsacademybr"
   ]
  },
  {
   "cell_type": "code",
   "execution_count": null,
   "metadata": {},
   "outputs": [],
   "source": [
    "# Versão da Linguagem Python\n",
    "from platform import python_version\n",
    "print('Versão da Linguagem Python Usada Neste Jupyter Notebook:', python_version())"
   ]
  },
  {
   "cell_type": "markdown",
   "metadata": {},
   "source": [
    "## Missão: Implementar o Algoritmo de Ordenação \"Selection sort\"."
   ]
  },
  {
   "cell_type": "markdown",
   "metadata": {},
   "source": [
    "## Nível de Dificuldade: Alto"
   ]
  },
  {
   "cell_type": "markdown",
   "metadata": {},
   "source": [
    "## Premissas\n",
    "\n",
    "* As duplicatas são permitidas?\n",
    "     * Sim\n",
    "* Podemos assumir que a entrada é válida?\n",
    "     * Não\n",
    "* Podemos supor que isso se encaixa na memória?\n",
    "     * Sim"
   ]
  },
  {
   "cell_type": "markdown",
   "metadata": {},
   "source": [
    "## Teste Cases\n",
    "\n",
    "* None -> Exception\n",
    "* [] -> []\n",
    "* One element -> [element]\n",
    "* Two or more elements"
   ]
  },
  {
   "cell_type": "markdown",
   "metadata": {},
   "source": [
    "## Algoritmo\n",
    "\n",
    "Animação do Wikipedia:\n",
    "![alt text](http://upload.wikimedia.org/wikipedia/commons/9/94/Selection-Sort-Animation.gif)\n",
    "\n",
    "Podemos fazer isso de forma recursiva ou iterativa. Iterativamente será mais eficiente, pois não requer sobrecarga de espaço extra com as chamadas recursivas.\n",
    "\n",
    "* Para cada elemento\n",
    "     * Verifique cada elemento à direita para encontrar o min\n",
    "     * Se min < elemento atual, swap"
   ]
  },
  {
   "cell_type": "markdown",
   "metadata": {},
   "source": [
    "## Solução"
   ]
  },
  {
   "cell_type": "code",
<<<<<<< HEAD
   "execution_count": 226,
=======
   "execution_count": 5,
>>>>>>> c556dc538c8e0c4af833f0afdf786c12e5e85d9c
   "metadata": {},
   "outputs": [],
   "source": [
    "class SelectionSort(object):\n",
    "    def sort(self, data):\n",
    "        # Implemente aqui sua solução\n",
    "        if data is None:\n",
<<<<<<< HEAD
    "            raise TypeError(\"Lista não pode ser vazia.\")\n",
    "        elif data == [] or len(data) == 1:\n",
    "            return data\n",
    "        else:\n",
    "            indiceAntigo= 0\n",
    "            #enquanto houver elementos\n",
    "            while indiceAntigo < len(data):\n",
    "\n",
    "                #Pega menor elemento posterior\n",
    "                indiceMenorElementoPosterior = self._buscaMenor(data, indiceAntigo)\n",
    "                if data[indiceMenorElementoPosterior] <= data[indiceAntigo]:\n",
    "                #fazer troca de posições\n",
    "                    self._trocaPosição(data, indiceMenorElementoPosterior, indiceAntigo)\n",
    "                print(data, indiceAntigo)\n",
    "                indiceAntigo += 1\n",
    "\n",
    "            return data\n",
    "    \n",
    "    def _buscaMenor(self, data, indiceAntigo):\n",
    "            \n",
    "            nroValores = 1\n",
    "            \n",
    "            if indiceAntigo < len(data):\n",
    "                valTemp = data.index(min(data[indiceAntigo:]))\n",
    "                nroValores = data.count(data[valTemp])\n",
    "            elif indiceAntigo == len(data):\n",
    "                valTemp = indiceAntigo-1\n",
    "            else:\n",
    "                valTemp = indiceAntigo\n",
    "            \n",
    "            if nroValores > 1:\n",
    "                valTemp = self._buscaMenor(data, indiceAntigo+1 )\n",
    " \n",
    "            return valTemp# data.index(min(data[indiceAntigo:]))\n",
    "            \n",
    "            \n",
    "        \n",
    "    def _trocaPosição(self, data, indiceElementoPosterior, indiceAntigo):\n",
    "        elemTemp = data[indiceAntigo]\n",
    "        data[indiceAntigo] = data[indiceElementoPosterior]\n",
    "        data[indiceElementoPosterior] = elemTemp\n",
    "        return\n",
    "        \n",
    "        \n",
    " "
   ]
  },
  {
   "cell_type": "code",
   "execution_count": 230,
   "metadata": {},
   "outputs": [
    {
     "data": {
      "text/plain": [
       "[3, 1, 2, 6, -3, 5, 7, -10]"
      ]
     },
     "execution_count": 230,
     "metadata": {},
     "output_type": "execute_result"
    }
   ],
   "source": [
    "data = [5, 1, 7, 3,3,1,2, 6, -3, 5, 7, -10]\n",
    "data[:-3]\n",
    "data[3+1:]"
=======
    "            raise TypeError('Dados não podem ser None')\n",
    "        if len(data) < 2:\n",
    "            return data\n",
    "        for i in range(len(data) - 1):\n",
    "            min_index = i\n",
    "            for j in range(i + 1, len(data)):\n",
    "                if data[j] < data[min_index]:\n",
    "                    min_index = j\n",
    "            if data[min_index] < data[i]:\n",
    "                data[i], data[min_index] = data[min_index], data[i]\n",
    "        return data\n",
    "\n",
    "   \n",
    "        \n",
    "        \n",
    "        \n",
    "        \n",
    "        if data is None:\n",
    "            raise TypeErrorError(\"Dados não podem ser None\")\n",
    "            \n",
    "        if len(data) < 2:\n",
    "            return data\n",
    "            \n",
    "        for i in range(len(data)-1):\n",
    "            indMin = i\n",
    "            for j in range(i+1, len(data)):\n",
    "                if data[j] < data[indMin]:\n",
    "                    indMin = j\n",
    "                if data[indMin] < data[i] :   \n",
    "                    data[i], data[indMin] = data[indMin], data[i]\n",
    "        \n",
    "        return data\n",
    "            \n",
    "            \n",
    "            "
>>>>>>> c556dc538c8e0c4af833f0afdf786c12e5e85d9c
   ]
  },
  {
   "cell_type": "code",
<<<<<<< HEAD
   "execution_count": 233,
   "metadata": {},
   "outputs": [
    {
     "name": "stdout",
     "output_type": "stream",
     "text": [
      "[-10, 1, 7, 3, 1, 2, 6, -3, 5, 7, 5] 0\n",
      "[-10, -3, 7, 3, 1, 2, 6, 1, 5, 7, 5] 1\n",
      "[-10, -3, 5, 3, 1, 2, 6, 1, 5, 7, 7] 2\n",
      "[-10, -3, 5, 3, 1, 2, 6, 1, 5, 7, 7] 3\n",
      "[-10, -3, 5, 3, 1, 2, 6, 1, 5, 7, 7] 4\n",
      "[-10, -3, 5, 3, 1, 2, 6, 1, 5, 7, 7] 5\n",
      "[-10, -3, 5, 3, 1, 2, 6, 1, 5, 7, 7] 6\n",
      "[-10, -3, 5, 3, 1, 2, 6, 1, 5, 7, 7] 7\n",
      "[-10, -3, 5, 3, 1, 2, 6, 1, 5, 7, 7] 8\n",
      "[-10, -3, 5, 3, 1, 2, 6, 1, 5, 7, 7] 9\n",
      "[-10, -3, 5, 3, 1, 2, 6, 1, 5, 7, 7] 10\n"
     ]
    },
    {
     "data": {
      "text/plain": [
       "[-10, -3, 5, 3, 1, 2, 6, 1, 5, 7, 7]"
      ]
     },
     "execution_count": 233,
     "metadata": {},
     "output_type": "execute_result"
    }
   ],
   "source": [
    "data = [5, 1, 7, 3,1,2, 6, -3, 5, 7, -10]\n",
    "test = SelectionSort()\n",
    "test.sort(data)"
=======
   "execution_count": 6,
   "metadata": {},
   "outputs": [],
   "source": [
    "#test = SelectionSort()\n",
    "#data = [5, 1, 7, 2, 6, -3, 5, 7, -10]\n",
    "#test.sort(data)"
>>>>>>> c556dc538c8e0c4af833f0afdf786c12e5e85d9c
   ]
  },
  {
   "cell_type": "markdown",
   "metadata": {},
   "source": [
    "## Teste da Solução"
   ]
  },
  {
   "cell_type": "code",
<<<<<<< HEAD
   "execution_count": 215,
=======
   "execution_count": 7,
>>>>>>> c556dc538c8e0c4af833f0afdf786c12e5e85d9c
   "metadata": {},
   "outputs": [
    {
     "name": "stdout",
     "output_type": "stream",
     "text": [
      "Overwriting missao4.py\n"
     ]
    }
   ],
   "source": [
    "%%writefile missao4.py\n",
    "from nose.tools import assert_equal, assert_raises\n",
    "\n",
    "\n",
    "class TestSelectionSort(object):\n",
    "\n",
    "    def test_selection_sort(self, func):\n",
    "        print('None input')\n",
    "        assert_raises(TypeError, func, None)\n",
    "\n",
    "        print('Input vazio')\n",
    "        assert_equal(func([]), [])\n",
    "\n",
    "        print('Um elemento')\n",
    "        assert_equal(func([5]), [5])\n",
    "\n",
    "        print('Dois ou mais elementos')\n",
    "        data = [5, 1, 7, 2, 6, -3, 5, 7, -10]\n",
    "        assert_equal(func(data), sorted(data))\n",
    "\n",
    "        print('Sua solução foi executada com sucesso! Parabéns!')\n",
    "\n",
    "\n",
    "def main():\n",
    "    test = TestSelectionSort()\n",
    "    try:\n",
    "        selection_sort = SelectionSort()\n",
    "        test.test_selection_sort(selection_sort.sort)\n",
    "    except NameError:\n",
    "        pass\n",
    "\n",
    "\n",
    "if __name__ == '__main__':\n",
    "    main()"
   ]
  },
  {
   "cell_type": "code",
<<<<<<< HEAD
   "execution_count": 216,
=======
   "execution_count": 8,
>>>>>>> c556dc538c8e0c4af833f0afdf786c12e5e85d9c
   "metadata": {},
   "outputs": [
    {
     "name": "stdout",
     "output_type": "stream",
     "text": [
<<<<<<< HEAD
      "None input\n",
      "Input vazio\n",
      "Um elemento\n",
      "Dois ou mais elementos\n",
      "8\n",
      "[-10, 1, 7, 2, 6, -3, 5, 7, 5] 0\n",
      "5\n",
      "[-10, -3, 7, 2, 6, 1, 5, 7, 5] 1\n",
      "5\n",
      "[-10, -3, 1, 2, 6, 7, 5, 7, 5] 2\n",
      "3\n",
      "[-10, -3, 1, 2, 6, 7, 5, 7, 5] 3\n",
      "8\n",
      "8\n",
      "8\n",
      "8\n",
      "8\n",
      "8\n",
      "[-10, -3, 1, 2, 5, 7, 5, 7, 6] 4\n",
      "8\n",
      "8\n",
      "8\n",
      "[-10, -3, 1, 2, 5, 6, 5, 7, 7] 5\n",
      "8\n",
      "8\n",
      "8\n",
      "8\n",
      "[-10, -3, 1, 2, 5, 6, 5, 7, 7] 6\n",
      "8\n",
      "8\n",
      "8\n",
      "[-10, -3, 1, 2, 5, 6, 5, 7, 7] 7\n",
      "8\n",
      "8\n",
      "[-10, -3, 1, 2, 5, 6, 5, 7, 7] 8\n"
     ]
    },
    {
     "ename": "AssertionError",
     "evalue": "Lists differ: [-10, -3, 1, 2, 5, 6, 5, 7, 7] != [-10, -3, 1, 2, 5, 5, 6, 7, 7]\n\nFirst differing element 5:\n6\n5\n\n- [-10, -3, 1, 2, 5, 6, 5, 7, 7]\n?                       ---\n\n+ [-10, -3, 1, 2, 5, 5, 6, 7, 7]\n?                    +++\n",
     "output_type": "error",
     "traceback": [
      "\u001b[1;31m---------------------------------------------------------\u001b[0m",
      "\u001b[1;31mAssertionError\u001b[0m          Traceback (most recent call last)",
      "\u001b[1;32m~\\Developer\\PythonFundamentos\\Cap07\\DesafioDSA\\Missao4\\missao4.py\u001b[0m in \u001b[0;36m<module>\u001b[1;34m\u001b[0m\n\u001b[0;32m     31\u001b[0m \u001b[1;33m\u001b[0m\u001b[0m\n\u001b[0;32m     32\u001b[0m \u001b[1;32mif\u001b[0m \u001b[0m__name__\u001b[0m \u001b[1;33m==\u001b[0m \u001b[1;34m'__main__'\u001b[0m\u001b[1;33m:\u001b[0m\u001b[1;33m\u001b[0m\u001b[0m\n\u001b[1;32m---> 33\u001b[1;33m     \u001b[0mmain\u001b[0m\u001b[1;33m(\u001b[0m\u001b[1;33m)\u001b[0m\u001b[1;33m\u001b[0m\u001b[0m\n\u001b[0m",
      "\u001b[1;32m~\\Developer\\PythonFundamentos\\Cap07\\DesafioDSA\\Missao4\\missao4.py\u001b[0m in \u001b[0;36mmain\u001b[1;34m()\u001b[0m\n\u001b[0;32m     25\u001b[0m     \u001b[1;32mtry\u001b[0m\u001b[1;33m:\u001b[0m\u001b[1;33m\u001b[0m\u001b[0m\n\u001b[0;32m     26\u001b[0m         \u001b[0mselection_sort\u001b[0m \u001b[1;33m=\u001b[0m \u001b[0mSelectionSort\u001b[0m\u001b[1;33m(\u001b[0m\u001b[1;33m)\u001b[0m\u001b[1;33m\u001b[0m\u001b[0m\n\u001b[1;32m---> 27\u001b[1;33m         \u001b[0mtest\u001b[0m\u001b[1;33m.\u001b[0m\u001b[0mtest_selection_sort\u001b[0m\u001b[1;33m(\u001b[0m\u001b[0mselection_sort\u001b[0m\u001b[1;33m.\u001b[0m\u001b[0msort\u001b[0m\u001b[1;33m)\u001b[0m\u001b[1;33m\u001b[0m\u001b[0m\n\u001b[0m\u001b[0;32m     28\u001b[0m     \u001b[1;32mexcept\u001b[0m \u001b[0mNameError\u001b[0m\u001b[1;33m:\u001b[0m\u001b[1;33m\u001b[0m\u001b[0m\n\u001b[0;32m     29\u001b[0m         \u001b[1;32mpass\u001b[0m\u001b[1;33m\u001b[0m\u001b[0m\n",
      "\u001b[1;32m~\\Developer\\PythonFundamentos\\Cap07\\DesafioDSA\\Missao4\\missao4.py\u001b[0m in \u001b[0;36mtest_selection_sort\u001b[1;34m(self, func)\u001b[0m\n\u001b[0;32m     16\u001b[0m         \u001b[0mprint\u001b[0m\u001b[1;33m(\u001b[0m\u001b[1;34m'Dois ou mais elementos'\u001b[0m\u001b[1;33m)\u001b[0m\u001b[1;33m\u001b[0m\u001b[0m\n\u001b[0;32m     17\u001b[0m         \u001b[0mdata\u001b[0m \u001b[1;33m=\u001b[0m \u001b[1;33m[\u001b[0m\u001b[1;36m5\u001b[0m\u001b[1;33m,\u001b[0m \u001b[1;36m1\u001b[0m\u001b[1;33m,\u001b[0m \u001b[1;36m7\u001b[0m\u001b[1;33m,\u001b[0m \u001b[1;36m2\u001b[0m\u001b[1;33m,\u001b[0m \u001b[1;36m6\u001b[0m\u001b[1;33m,\u001b[0m \u001b[1;33m-\u001b[0m\u001b[1;36m3\u001b[0m\u001b[1;33m,\u001b[0m \u001b[1;36m5\u001b[0m\u001b[1;33m,\u001b[0m \u001b[1;36m7\u001b[0m\u001b[1;33m,\u001b[0m \u001b[1;33m-\u001b[0m\u001b[1;36m10\u001b[0m\u001b[1;33m]\u001b[0m\u001b[1;33m\u001b[0m\u001b[0m\n\u001b[1;32m---> 18\u001b[1;33m         \u001b[0massert_equal\u001b[0m\u001b[1;33m(\u001b[0m\u001b[0mfunc\u001b[0m\u001b[1;33m(\u001b[0m\u001b[0mdata\u001b[0m\u001b[1;33m)\u001b[0m\u001b[1;33m,\u001b[0m \u001b[0msorted\u001b[0m\u001b[1;33m(\u001b[0m\u001b[0mdata\u001b[0m\u001b[1;33m)\u001b[0m\u001b[1;33m)\u001b[0m\u001b[1;33m\u001b[0m\u001b[0m\n\u001b[0m\u001b[0;32m     19\u001b[0m \u001b[1;33m\u001b[0m\u001b[0m\n\u001b[0;32m     20\u001b[0m         \u001b[0mprint\u001b[0m\u001b[1;33m(\u001b[0m\u001b[1;34m'Sua solução foi executada com sucesso! Parabéns!'\u001b[0m\u001b[1;33m)\u001b[0m\u001b[1;33m\u001b[0m\u001b[0m\n",
      "\u001b[1;32m~\\Developer\\Anaconda3\\lib\\unittest\\case.py\u001b[0m in \u001b[0;36massertEqual\u001b[1;34m(self, first, second, msg)\u001b[0m\n\u001b[0;32m    827\u001b[0m         \"\"\"\n\u001b[0;32m    828\u001b[0m         \u001b[0massertion_func\u001b[0m \u001b[1;33m=\u001b[0m \u001b[0mself\u001b[0m\u001b[1;33m.\u001b[0m\u001b[0m_getAssertEqualityFunc\u001b[0m\u001b[1;33m(\u001b[0m\u001b[0mfirst\u001b[0m\u001b[1;33m,\u001b[0m \u001b[0msecond\u001b[0m\u001b[1;33m)\u001b[0m\u001b[1;33m\u001b[0m\u001b[0m\n\u001b[1;32m--> 829\u001b[1;33m         \u001b[0massertion_func\u001b[0m\u001b[1;33m(\u001b[0m\u001b[0mfirst\u001b[0m\u001b[1;33m,\u001b[0m \u001b[0msecond\u001b[0m\u001b[1;33m,\u001b[0m \u001b[0mmsg\u001b[0m\u001b[1;33m=\u001b[0m\u001b[0mmsg\u001b[0m\u001b[1;33m)\u001b[0m\u001b[1;33m\u001b[0m\u001b[0m\n\u001b[0m\u001b[0;32m    830\u001b[0m \u001b[1;33m\u001b[0m\u001b[0m\n\u001b[0;32m    831\u001b[0m     \u001b[1;32mdef\u001b[0m \u001b[0massertNotEqual\u001b[0m\u001b[1;33m(\u001b[0m\u001b[0mself\u001b[0m\u001b[1;33m,\u001b[0m \u001b[0mfirst\u001b[0m\u001b[1;33m,\u001b[0m \u001b[0msecond\u001b[0m\u001b[1;33m,\u001b[0m \u001b[0mmsg\u001b[0m\u001b[1;33m=\u001b[0m\u001b[1;32mNone\u001b[0m\u001b[1;33m)\u001b[0m\u001b[1;33m:\u001b[0m\u001b[1;33m\u001b[0m\u001b[0m\n",
      "\u001b[1;32m~\\Developer\\Anaconda3\\lib\\unittest\\case.py\u001b[0m in \u001b[0;36massertListEqual\u001b[1;34m(self, list1, list2, msg)\u001b[0m\n\u001b[0;32m   1026\u001b[0m \u001b[1;33m\u001b[0m\u001b[0m\n\u001b[0;32m   1027\u001b[0m         \"\"\"\n\u001b[1;32m-> 1028\u001b[1;33m         \u001b[0mself\u001b[0m\u001b[1;33m.\u001b[0m\u001b[0massertSequenceEqual\u001b[0m\u001b[1;33m(\u001b[0m\u001b[0mlist1\u001b[0m\u001b[1;33m,\u001b[0m \u001b[0mlist2\u001b[0m\u001b[1;33m,\u001b[0m \u001b[0mmsg\u001b[0m\u001b[1;33m,\u001b[0m \u001b[0mseq_type\u001b[0m\u001b[1;33m=\u001b[0m\u001b[0mlist\u001b[0m\u001b[1;33m)\u001b[0m\u001b[1;33m\u001b[0m\u001b[0m\n\u001b[0m\u001b[0;32m   1029\u001b[0m \u001b[1;33m\u001b[0m\u001b[0m\n\u001b[0;32m   1030\u001b[0m     \u001b[1;32mdef\u001b[0m \u001b[0massertTupleEqual\u001b[0m\u001b[1;33m(\u001b[0m\u001b[0mself\u001b[0m\u001b[1;33m,\u001b[0m \u001b[0mtuple1\u001b[0m\u001b[1;33m,\u001b[0m \u001b[0mtuple2\u001b[0m\u001b[1;33m,\u001b[0m \u001b[0mmsg\u001b[0m\u001b[1;33m=\u001b[0m\u001b[1;32mNone\u001b[0m\u001b[1;33m)\u001b[0m\u001b[1;33m:\u001b[0m\u001b[1;33m\u001b[0m\u001b[0m\n",
      "\u001b[1;32m~\\Developer\\Anaconda3\\lib\\unittest\\case.py\u001b[0m in \u001b[0;36massertSequenceEqual\u001b[1;34m(self, seq1, seq2, msg, seq_type)\u001b[0m\n\u001b[0;32m   1008\u001b[0m         \u001b[0mstandardMsg\u001b[0m \u001b[1;33m=\u001b[0m \u001b[0mself\u001b[0m\u001b[1;33m.\u001b[0m\u001b[0m_truncateMessage\u001b[0m\u001b[1;33m(\u001b[0m\u001b[0mstandardMsg\u001b[0m\u001b[1;33m,\u001b[0m \u001b[0mdiffMsg\u001b[0m\u001b[1;33m)\u001b[0m\u001b[1;33m\u001b[0m\u001b[0m\n\u001b[0;32m   1009\u001b[0m         \u001b[0mmsg\u001b[0m \u001b[1;33m=\u001b[0m \u001b[0mself\u001b[0m\u001b[1;33m.\u001b[0m\u001b[0m_formatMessage\u001b[0m\u001b[1;33m(\u001b[0m\u001b[0mmsg\u001b[0m\u001b[1;33m,\u001b[0m \u001b[0mstandardMsg\u001b[0m\u001b[1;33m)\u001b[0m\u001b[1;33m\u001b[0m\u001b[0m\n\u001b[1;32m-> 1010\u001b[1;33m         \u001b[0mself\u001b[0m\u001b[1;33m.\u001b[0m\u001b[0mfail\u001b[0m\u001b[1;33m(\u001b[0m\u001b[0mmsg\u001b[0m\u001b[1;33m)\u001b[0m\u001b[1;33m\u001b[0m\u001b[0m\n\u001b[0m\u001b[0;32m   1011\u001b[0m \u001b[1;33m\u001b[0m\u001b[0m\n\u001b[0;32m   1012\u001b[0m     \u001b[1;32mdef\u001b[0m \u001b[0m_truncateMessage\u001b[0m\u001b[1;33m(\u001b[0m\u001b[0mself\u001b[0m\u001b[1;33m,\u001b[0m \u001b[0mmessage\u001b[0m\u001b[1;33m,\u001b[0m \u001b[0mdiff\u001b[0m\u001b[1;33m)\u001b[0m\u001b[1;33m:\u001b[0m\u001b[1;33m\u001b[0m\u001b[0m\n",
      "\u001b[1;32m~\\Developer\\Anaconda3\\lib\\unittest\\case.py\u001b[0m in \u001b[0;36mfail\u001b[1;34m(self, msg)\u001b[0m\n\u001b[0;32m    668\u001b[0m     \u001b[1;32mdef\u001b[0m \u001b[0mfail\u001b[0m\u001b[1;33m(\u001b[0m\u001b[0mself\u001b[0m\u001b[1;33m,\u001b[0m \u001b[0mmsg\u001b[0m\u001b[1;33m=\u001b[0m\u001b[1;32mNone\u001b[0m\u001b[1;33m)\u001b[0m\u001b[1;33m:\u001b[0m\u001b[1;33m\u001b[0m\u001b[0m\n\u001b[0;32m    669\u001b[0m         \u001b[1;34m\"\"\"Fail immediately, with the given message.\"\"\"\u001b[0m\u001b[1;33m\u001b[0m\u001b[0m\n\u001b[1;32m--> 670\u001b[1;33m         \u001b[1;32mraise\u001b[0m \u001b[0mself\u001b[0m\u001b[1;33m.\u001b[0m\u001b[0mfailureException\u001b[0m\u001b[1;33m(\u001b[0m\u001b[0mmsg\u001b[0m\u001b[1;33m)\u001b[0m\u001b[1;33m\u001b[0m\u001b[0m\n\u001b[0m\u001b[0;32m    671\u001b[0m \u001b[1;33m\u001b[0m\u001b[0m\n\u001b[0;32m    672\u001b[0m     \u001b[1;32mdef\u001b[0m \u001b[0massertFalse\u001b[0m\u001b[1;33m(\u001b[0m\u001b[0mself\u001b[0m\u001b[1;33m,\u001b[0m \u001b[0mexpr\u001b[0m\u001b[1;33m,\u001b[0m \u001b[0mmsg\u001b[0m\u001b[1;33m=\u001b[0m\u001b[1;32mNone\u001b[0m\u001b[1;33m)\u001b[0m\u001b[1;33m:\u001b[0m\u001b[1;33m\u001b[0m\u001b[0m\n",
      "\u001b[1;31mAssertionError\u001b[0m: Lists differ: [-10, -3, 1, 2, 5, 6, 5, 7, 7] != [-10, -3, 1, 2, 5, 5, 6, 7, 7]\n\nFirst differing element 5:\n6\n5\n\n- [-10, -3, 1, 2, 5, 6, 5, 7, 7]\n?                       ---\n\n+ [-10, -3, 1, 2, 5, 5, 6, 7, 7]\n?                    +++\n"
=======
      "None input\n"
>>>>>>> c556dc538c8e0c4af833f0afdf786c12e5e85d9c
     ]
    }
   ],
   "source": [
    "%run -i missao4.py"
   ]
  },
  {
   "cell_type": "markdown",
   "metadata": {},
   "source": [
    "## Fim"
   ]
  },
  {
   "cell_type": "markdown",
   "metadata": {},
   "source": [
    "### Obrigado - Data Science Academy - <a href=\"http://facebook.com/dsacademybr\">facebook.com/dsacademybr</a>"
   ]
  }
 ],
 "metadata": {
  "kernelspec": {
   "display_name": "Python 3",
   "language": "python",
   "name": "python3"
  },
  "language_info": {
   "codemirror_mode": {
    "name": "ipython",
    "version": 3
   },
   "file_extension": ".py",
   "mimetype": "text/x-python",
   "name": "python",
   "nbconvert_exporter": "python",
   "pygments_lexer": "ipython3",
   "version": "3.7.3"
  }
 },
 "nbformat": 4,
 "nbformat_minor": 1
}
